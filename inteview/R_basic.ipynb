{
 "cells": [
  {
   "cell_type": "markdown",
   "metadata": {},
   "source": [
    "# Basic R interview questions"
   ]
  },
  {
   "cell_type": "markdown",
   "metadata": {},
   "source": [
    "## Question 1\n",
    "What is *vec*?"
   ]
  },
  {
   "cell_type": "code",
   "execution_count": 10,
   "metadata": {},
   "outputs": [
    {
     "name": "stdout",
     "output_type": "stream",
     "text": [
      "[1] \"What is vec?\"\n"
     ]
    }
   ],
   "source": [
    "a = c(\"banana\", \"apple\")\n",
    "st = c(\"fruit\")\n",
    "vec = c()\n",
    "for (i in a){\n",
    "    vec = c(vec, paste(\"This\", st, \"is\", i))  \n",
    "}\n",
    "print(\"What is vec?\")"
   ]
  },
  {
   "cell_type": "markdown",
   "metadata": {},
   "source": [
    "## Question 2\n",
    "What is *out*?"
   ]
  },
  {
   "cell_type": "code",
   "execution_count": 1,
   "metadata": {},
   "outputs": [
    {
     "name": "stdout",
     "output_type": "stream",
     "text": [
      "[1] \"What is out?\"\n"
     ]
    }
   ],
   "source": [
    "NumberAnalyser = function(val){\n",
    "    if (is.na(val)){\n",
    "        return(NA)\n",
    "    } else if (val < 5) {\n",
    "        return(0)\n",
    "    } else {\n",
    "        return(1)\n",
    "    }\n",
    "}\n",
    "\n",
    "d1 = c(1:2)\n",
    "d2 = c(2,3)\n",
    "df = d1*d2\n",
    "w = sum(df)\n",
    "\n",
    "out = NumberAnalyser(w)\n",
    "print(\"What is out?\")"
   ]
  },
  {
   "cell_type": "markdown",
   "metadata": {},
   "source": [
    "## Question 3\n",
    "What happens here?"
   ]
  },
  {
   "cell_type": "code",
   "execution_count": 3,
   "metadata": {},
   "outputs": [
    {
     "data": {
      "image/png": "[encoded data removed]",
      "text/plain": [
       "plot without title"
      ]
     },
     "metadata": {},
     "output_type": "display_data"
    }
   ],
   "source": [
    "options(warn=-1)\n",
    "library(RJSDMX)\n",
    "ticker = \"EO.FIN.GDPV.Q\"\n",
    "mylist = getTimeSeries(\"OECD\", ticker)\n",
    "\n",
    "df = sdmxdf(mylist, meta=F)\n",
    "df[[\"TIME_PERIOD\"]] = as.Date(as.yearqtr(as.character(df[[\"TIME_PERIOD\"]]), format = \"%Y Q%q\"))\n",
    "\n",
    "plot(df[[\"TIME_PERIOD\"]],df[['OBS_VALUE']])"
   ]
  },
  {
   "cell_type": "code",
   "execution_count": null,
   "metadata": {},
   "outputs": [],
   "source": []
  }
 ],
 "metadata": {
  "kernelspec": {
   "display_name": "R [conda env:dev]",
   "language": "R",
   "name": "conda-env-dev-r"
  },
  "language_info": {
   "codemirror_mode": "r",
   "file_extension": ".r",
   "mimetype": "text/x-r-source",
   "name": "R",
   "pygments_lexer": "r",
   "version": "3.6.1"
  }
 },
 "nbformat": 4,
 "nbformat_minor": 2
}
