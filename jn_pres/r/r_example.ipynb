{
 "cells": [
  {
   "cell_type": "markdown",
   "metadata": {},
   "source": [
    "# Jupyter Notebook demo using R\n",
    "\n",
    "In this notebook we demonstrate the use of R in Jupyter Notebook. \n",
    "\n",
    "In our example we\n",
    "- Download data set, describing student admissions\n",
    "- Train a Self-Organizing Map (SOM) on the data\n",
    "- Visualize results.\n",
    "\n",
    "Data from the following example: https://www.youtube.com/watch?v=wLu213JKfnQ"
   ]
  },
  {
   "cell_type": "code",
   "execution_count": 45,
   "metadata": {},
   "outputs": [],
   "source": [
    "# Instal R package \"kohonen\" if haven't already\n",
    "#install.packages(\"kohonen\", repos='http://cran.us.r-project.org')"
   ]
  },
  {
   "cell_type": "code",
   "execution_count": 46,
   "metadata": {},
   "outputs": [],
   "source": [
    "# Load dependencies\n",
    "require(kohonen) # for SOM\n",
    "require(dplyr) # for some data wrangling"
   ]
  },
  {
   "cell_type": "markdown",
   "metadata": {},
   "source": [
    "## Get data"
   ]
  },
  {
   "cell_type": "code",
   "execution_count": 47,
   "metadata": {},
   "outputs": [],
   "source": [
    "# Read data file\n",
    "data = read.csv(\"data.csv\",header=TRUE)"
   ]
  },
  {
   "cell_type": "code",
   "execution_count": 48,
   "metadata": {},
   "outputs": [
    {
     "data": {
      "text/html": [
       "<table>\n",
       "<thead><tr><th scope=col>admit</th><th scope=col>gre</th><th scope=col>gpa</th><th scope=col>rank</th></tr></thead>\n",
       "<tbody>\n",
       "\t<tr><td>0   </td><td>380 </td><td>3.61</td><td>3   </td></tr>\n",
       "\t<tr><td>1   </td><td>660 </td><td>3.67</td><td>3   </td></tr>\n",
       "\t<tr><td>1   </td><td>800 </td><td>4.00</td><td>1   </td></tr>\n",
       "\t<tr><td>1   </td><td>640 </td><td>3.19</td><td>4   </td></tr>\n",
       "\t<tr><td>0   </td><td>520 </td><td>2.93</td><td>4   </td></tr>\n",
       "\t<tr><td>1   </td><td>760 </td><td>3.00</td><td>2   </td></tr>\n",
       "</tbody>\n",
       "</table>\n"
      ],
      "text/latex": [
       "\\begin{tabular}{r|llll}\n",
       " admit & gre & gpa & rank\\\\\n",
       "\\hline\n",
       "\t 0    & 380  & 3.61 & 3   \\\\\n",
       "\t 1    & 660  & 3.67 & 3   \\\\\n",
       "\t 1    & 800  & 4.00 & 1   \\\\\n",
       "\t 1    & 640  & 3.19 & 4   \\\\\n",
       "\t 0    & 520  & 2.93 & 4   \\\\\n",
       "\t 1    & 760  & 3.00 & 2   \\\\\n",
       "\\end{tabular}\n"
      ],
      "text/markdown": [
       "\n",
       "admit | gre | gpa | rank | \n",
       "|---|---|---|---|---|---|\n",
       "| 0    | 380  | 3.61 | 3    | \n",
       "| 1    | 660  | 3.67 | 3    | \n",
       "| 1    | 800  | 4.00 | 1    | \n",
       "| 1    | 640  | 3.19 | 4    | \n",
       "| 0    | 520  | 2.93 | 4    | \n",
       "| 1    | 760  | 3.00 | 2    | \n",
       "\n",
       "\n"
      ],
      "text/plain": [
       "  admit gre gpa  rank\n",
       "1 0     380 3.61 3   \n",
       "2 1     660 3.67 3   \n",
       "3 1     800 4.00 1   \n",
       "4 1     640 3.19 4   \n",
       "5 0     520 2.93 4   \n",
       "6 1     760 3.00 2   "
      ]
     },
     "metadata": {},
     "output_type": "display_data"
    }
   ],
   "source": [
    "# Show first observations\n",
    "head(data)"
   ]
  },
  {
   "cell_type": "code",
   "execution_count": 49,
   "metadata": {},
   "outputs": [
    {
     "name": "stdout",
     "output_type": "stream",
     "text": [
      "[1] \"Frame has 400 observations\"\n"
     ]
    },
    {
     "data": {
      "text/plain": [
       "     admit             gre             gpa             rank      \n",
       " Min.   :0.0000   Min.   :220.0   Min.   :2.260   Min.   :1.000  \n",
       " 1st Qu.:0.0000   1st Qu.:520.0   1st Qu.:3.130   1st Qu.:2.000  \n",
       " Median :0.0000   Median :580.0   Median :3.395   Median :2.000  \n",
       " Mean   :0.3175   Mean   :587.7   Mean   :3.390   Mean   :2.485  \n",
       " 3rd Qu.:1.0000   3rd Qu.:660.0   3rd Qu.:3.670   3rd Qu.:3.000  \n",
       " Max.   :1.0000   Max.   :800.0   Max.   :4.000   Max.   :4.000  "
      ]
     },
     "metadata": {},
     "output_type": "display_data"
    }
   ],
   "source": [
    "# Some summary statistics\n",
    "print(paste0(\"Frame has \",dim(data)[1],\" observations\"))\n",
    "summary(as.data.frame(data))"
   ]
  },
  {
   "cell_type": "markdown",
   "metadata": {},
   "source": [
    "## Train SOM"
   ]
  },
  {
   "cell_type": "markdown",
   "metadata": {},
   "source": [
    "<a href=\"https://en.wikipedia.org/wiki/Self-organizing_map\">Self-Organizing Maps</a> belong to the family of dimensionality reduction techniques. They can be used to visualize high-dimensional data."
   ]
  },
  {
   "cell_type": "code",
   "execution_count": 50,
   "metadata": {},
   "outputs": [
    {
     "data": {
      "text/html": [
       "<table>\n",
       "<thead><tr><th scope=col>gre</th><th scope=col>gpa</th><th scope=col>rank</th></tr></thead>\n",
       "<tbody>\n",
       "\t<tr><td>-1.7980110</td><td> 0.5783479</td><td> 0.5452850</td></tr>\n",
       "\t<tr><td> 0.6258844</td><td> 0.7360075</td><td> 0.5452850</td></tr>\n",
       "\t<tr><td> 1.8378321</td><td> 1.6031352</td><td>-1.5723268</td></tr>\n",
       "\t<tr><td> 0.4527490</td><td>-0.5252692</td><td> 1.6040909</td></tr>\n",
       "\t<tr><td>-0.5860633</td><td>-1.2084607</td><td> 1.6040909</td></tr>\n",
       "\t<tr><td> 1.4915613</td><td>-1.0245245</td><td>-0.5135209</td></tr>\n",
       "</tbody>\n",
       "</table>\n"
      ],
      "text/latex": [
       "\\begin{tabular}{lll}\n",
       " gre & gpa & rank\\\\\n",
       "\\hline\n",
       "\t -1.7980110 &  0.5783479 &  0.5452850\\\\\n",
       "\t  0.6258844 &  0.7360075 &  0.5452850\\\\\n",
       "\t  1.8378321 &  1.6031352 & -1.5723268\\\\\n",
       "\t  0.4527490 & -0.5252692 &  1.6040909\\\\\n",
       "\t -0.5860633 & -1.2084607 &  1.6040909\\\\\n",
       "\t  1.4915613 & -1.0245245 & -0.5135209\\\\\n",
       "\\end{tabular}\n"
      ],
      "text/markdown": [
       "\n",
       "gre | gpa | rank | \n",
       "|---|---|---|---|---|---|\n",
       "| -1.7980110 |  0.5783479 |  0.5452850 | \n",
       "|  0.6258844 |  0.7360075 |  0.5452850 | \n",
       "|  1.8378321 |  1.6031352 | -1.5723268 | \n",
       "|  0.4527490 | -0.5252692 |  1.6040909 | \n",
       "| -0.5860633 | -1.2084607 |  1.6040909 | \n",
       "|  1.4915613 | -1.0245245 | -0.5135209 | \n",
       "\n",
       "\n"
      ],
      "text/plain": [
       "     gre        gpa        rank      \n",
       "[1,] -1.7980110  0.5783479  0.5452850\n",
       "[2,]  0.6258844  0.7360075  0.5452850\n",
       "[3,]  1.8378321  1.6031352 -1.5723268\n",
       "[4,]  0.4527490 -0.5252692  1.6040909\n",
       "[5,] -0.5860633 -1.2084607  1.6040909\n",
       "[6,]  1.4915613 -1.0245245 -0.5135209"
      ]
     },
     "metadata": {},
     "output_type": "display_data"
    }
   ],
   "source": [
    "# Get all exogenous variables, dropping endogenous (\"admit\")\n",
    "# z-score normalization for exogenous variables\n",
    "X = scale(data[,-1])\n",
    "head(X)"
   ]
  },
  {
   "cell_type": "code",
   "execution_count": 51,
   "metadata": {},
   "outputs": [],
   "source": [
    "# Set seed for reproducibility\n",
    "set.seed(222)\n",
    "\n",
    "# Define SOM grid\n",
    "g = somgrid(xdim = 4, ydim = 4, topo = \"rectangular\")\n",
    "\n",
    "# Train SOM\n",
    "map = som(X,grid=g,alpha=c(0.05,0.01), radius=1)"
   ]
  },
  {
   "cell_type": "markdown",
   "metadata": {},
   "source": [
    "## Visualize results"
   ]
  },
  {
   "cell_type": "code",
   "execution_count": 52,
   "metadata": {},
   "outputs": [],
   "source": [
    "# Some colors\n",
    "coolBlueHotRed = function(n, alpha = 1) {\n",
    "  rainbow(n, end=4/6, alpha=alpha)[n:1]\n",
    "}"
   ]
  },
  {
   "cell_type": "code",
   "execution_count": 53,
   "metadata": {},
   "outputs": [
    {
     "data": {
      "image/png": "[encoded data removed]",
      "text/plain": [
       "Plot with title \"Mapping plot\""
      ]
     },
     "metadata": {},
     "output_type": "display_data"
    }
   ],
   "source": [
    "# Plots sizes\n",
    "options(repr.plot.width=5, repr.plot.height=5)\n",
    "\n",
    "# Mapping plots shows to which SOM grid nodes observations were mapped\n",
    "plot(map, type=\"mapping\")"
   ]
  },
  {
   "cell_type": "code",
   "execution_count": 54,
   "metadata": {},
   "outputs": [
    {
     "data": {
      "image/png": "[encoded data removed]",
      "text/plain": [
       "Plot with title \"Counts plot\""
      ]
     },
     "metadata": {},
     "output_type": "display_data"
    }
   ],
   "source": [
    "# Visualize mapping density per node as colors\n",
    "plot(map, type=\"counts\",palette.name=coolBlueHotRed)"
   ]
  },
  {
   "cell_type": "code",
   "execution_count": 55,
   "metadata": {},
   "outputs": [
    {
     "data": {
      "image/png": "[encoded data removed]",
      "text/plain": [
       "Plot with title \"Codes plot\""
      ]
     },
     "metadata": {},
     "output_type": "display_data"
    }
   ],
   "source": [
    "# Visualize what kind of observations each node contains on average\n",
    "plot(map, type=\"codes\")"
   ]
  },
  {
   "cell_type": "code",
   "execution_count": 56,
   "metadata": {},
   "outputs": [],
   "source": [
    "# Create data frame with original data and assigned node on the map\n",
    "data_extended = cbind(data,map$unit.classif)\n",
    "names(data_extended) = c(names(data), 'node')\n",
    "\n",
    "# Calculate mean values of original data by node\n",
    "feature_means = data_extended %>% group_by(node) %>% summarise(\n",
    "                                   gpa  = mean(gpa), \n",
    "                                   gre  = mean(gre), \n",
    "                                   rank = mean(rank)\n",
    "                                    )"
   ]
  },
  {
   "cell_type": "code",
   "execution_count": 57,
   "metadata": {},
   "outputs": [
    {
     "data": {
      "image/png": "[encoded data removed]",
      "text/plain": [
       "plot without title"
      ]
     },
     "metadata": {},
     "output_type": "display_data"
    }
   ],
   "source": [
    "# Plot the SOM grid so that nodes are clored based on the average values of each variable in them\n",
    "par(mfrow=c(2,2))\n",
    "plot(map,type=\"property\",property=feature_means[['rank']],main='rank',palette.name=coolBlueHotRed)\n",
    "plot(map,type=\"property\",property=feature_means[['gpa']],main='gpa',palette.name=coolBlueHotRed)\n",
    "plot(map,type=\"property\",property=feature_means[['gre']],main='gre',palette.name=coolBlueHotRed)"
   ]
  }
 ],
 "metadata": {
  "kernelspec": {
   "display_name": "R [conda env:mro_env]",
   "language": "R",
   "name": "conda-env-mro_env-r"
  },
  "language_info": {
   "codemirror_mode": "r",
   "file_extension": ".r",
   "mimetype": "text/x-r-source",
   "name": "R",
   "pygments_lexer": "r",
   "version": "3.4.3"
  },
  "toc": {
   "nav_menu": {},
   "number_sections": true,
   "sideBar": true,
   "skip_h1_title": false,
   "toc_cell": false,
   "toc_position": {},
   "toc_section_display": "block",
   "toc_window_display": false
  }
 },
 "nbformat": 4,
 "nbformat_minor": 2
}
